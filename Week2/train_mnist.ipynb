{
  "cells": [
    {
      "cell_type": "markdown",
      "id": "6be683ff",
      "metadata": {
        "id": "6be683ff"
      },
      "source": [
        "## Deep Learning Study\n",
        "#### Assignment 2: MNIST 분류 모델 학습\n",
        "![image](https://user-images.githubusercontent.com/44901828/228213023-6af17f20-0457-40a3-91c4-3f80bd64c1ed.png)\n",
        "- Pytorch에서 제공하는 nn.Module 클래스를 활용하여 간단한 딥 러닝 모델을 설계하고, [MNIST data](https://ko.wikipedia.org/wiki/MNIST_%EB%8D%B0%EC%9D%B4%ED%84%B0%EB%B2%A0%EC%9D%B4%EC%8A%A4)를 분류할 수 있도록 학습시켜 봅시다.\n",
        "- MNIST 분류 문제를 잘 푸는 모델은 input으로 손으로 쓴 숫자 이미지 데이터를 받아 output으로 실제 숫자를 정확하게 예측하는 모델이라고 할 수 있습니다."
      ]
    },
    {
      "cell_type": "code",
      "execution_count": null,
      "id": "f68e9a77",
      "metadata": {
        "id": "f68e9a77"
      },
      "outputs": [],
      "source": [
        "import random\n",
        "import numpy as np\n",
        "import torchvision\n",
        "\n",
        "# 재현을 위해 seed 고정\n",
        "random.seed(42)\n",
        "np.random.seed(42)\n",
        "\n",
        "# MNIST\n",
        "train_dataset = torchvision.datasets.MNIST(root=\"./data\", transform=torchvision.transforms.ToTensor(), train=True, download=True)"
      ]
    },
    {
      "cell_type": "markdown",
      "source": [
        "- 불러온 MNIST 데이터셋이 어떤 형태로 구성되어 있는지 확인해 보겠습니다.\n",
        "- 각각의 데이터는 28x28 크기의 이미지와 숫자 라벨로 구성되어 있네요."
      ],
      "metadata": {
        "id": "FuDlZ1OI3kDU"
      },
      "id": "FuDlZ1OI3kDU"
    },
    {
      "cell_type": "code",
      "source": [
        "from torchvision.transforms.functional import to_pil_image\n",
        "\n",
        "print(\"Total data:\", len(train_dataset))\n",
        "for i in range(5):\n",
        "    image = train_dataset[i][0]\n",
        "    label = train_dataset[i][1]\n",
        "    print(f\"\\n[Image] {image.shape}\")\n",
        "    to_pil_image(image).show()\n",
        "    print(f\"[Label] {label}\")"
      ],
      "metadata": {
        "id": "xswtqgkT3DGt",
        "outputId": "fd29f3a3-737a-4992-d49f-326c18fd4323",
        "colab": {
          "base_uri": "https://localhost:8080/",
          "height": 456
        }
      },
      "id": "xswtqgkT3DGt",
      "execution_count": null,
      "outputs": [
        {
          "output_type": "stream",
          "name": "stdout",
          "text": [
            "Total data: 60000\n",
            "\n",
            "[Image] torch.Size([1, 28, 28])\n"
          ]
        },
        {
          "output_type": "display_data",
          "data": {
            "text/plain": [
              "<PIL.Image.Image image mode=L size=28x28 at 0x7F8ACDD87C10>"
            ],
            "image/png": "[encoded data removed]"
          },
          "metadata": {}
        },
        {
          "output_type": "stream",
          "name": "stdout",
          "text": [
            "[Label] 5\n",
            "\n",
            "[Image] torch.Size([1, 28, 28])\n"
          ]
        },
        {
          "output_type": "display_data",
          "data": {
            "text/plain": [
              "<PIL.Image.Image image mode=L size=28x28 at 0x7F8A2F51FE80>"
            ],
            "image/png": "[encoded data removed]"
          },
          "metadata": {}
        },
        {
          "output_type": "stream",
          "name": "stdout",
          "text": [
            "[Label] 0\n",
            "\n",
            "[Image] torch.Size([1, 28, 28])\n"
          ]
        },
        {
          "output_type": "display_data",
          "data": {
            "text/plain": [
              "<PIL.Image.Image image mode=L size=28x28 at 0x7F8A2F55D670>"
            ],
            "image/png": "[encoded data removed]"
          },
          "metadata": {}
        },
        {
          "output_type": "stream",
          "name": "stdout",
          "text": [
            "[Label] 4\n",
            "\n",
            "[Image] torch.Size([1, 28, 28])\n"
          ]
        },
        {
          "output_type": "display_data",
          "data": {
            "text/plain": [
              "<PIL.Image.Image image mode=L size=28x28 at 0x7F8ACDD877C0>"
            ],
            "image/png": "[encoded data removed]"
          },
          "metadata": {}
        },
        {
          "output_type": "stream",
          "name": "stdout",
          "text": [
            "[Label] 1\n",
            "\n",
            "[Image] torch.Size([1, 28, 28])\n"
          ]
        },
        {
          "output_type": "display_data",
          "data": {
            "text/plain": [
              "<PIL.Image.Image image mode=L size=28x28 at 0x7F8A2F51FE50>"
            ],
            "image/png": "[encoded data removed]"
          },
          "metadata": {}
        },
        {
          "output_type": "stream",
          "name": "stdout",
          "text": [
            "[Label] 9\n"
          ]
        }
      ]
    },
    {
      "cell_type": "markdown",
      "id": "b589c78b",
      "metadata": {
        "id": "b589c78b"
      },
      "source": [
        "![image](https://user-images.githubusercontent.com/44901828/228216655-d792374d-a3f7-4de6-b0e9-efc106f55064.png)\n",
        "- 이제 MNIST 데이터 분류를 학습할 모델을 정의해 보겠습니다.\n",
        "- 이미지는 가로 28픽셀, 세로 28픽셀의 크기를 가지므로 input으로 길이 784(28*28)를 받아 output으로 10개의 라벨에 대한 확률을 출력할 수 있도록 네트워크를 구성했습니다."
      ]
    },
    {
      "cell_type": "code",
      "execution_count": null,
      "id": "b82baa31",
      "metadata": {
        "id": "b82baa31"
      },
      "outputs": [],
      "source": [
        "import torch\n",
        "from torch import nn\n",
        "\n",
        "model = nn.Sequential(\n",
        "    nn.Linear(784, 128),\n",
        "    nn.ReLU(),\n",
        "    #nn.Linear(128, 64),\n",
        "    #nn.ReLU(),\n",
        "    nn.Linear(128, 10)\n",
        ")"
      ]
    },
    {
      "cell_type": "markdown",
      "source": [
        "- 분류 문제에 일반적으로 사용되는 Cross Entropy Loss를 불러와 사용하겠습니다.\n",
        "- 그리고 한번에 60,000개의 데이터를 모두 학습할 수 없기 때문에, 일정 batch 단위로 잘라서 학습할 수 있도록 해주는 DataLoader를 사용하도록 하겠습니다."
      ],
      "metadata": {
        "id": "7fOCUCkQ-trj"
      },
      "id": "7fOCUCkQ-trj"
    },
    {
      "cell_type": "code",
      "execution_count": null,
      "id": "85e5c1e6",
      "metadata": {
        "id": "85e5c1e6"
      },
      "outputs": [],
      "source": [
        "loss_function = nn.CrossEntropyLoss()\n",
        "train_loader = torch.utils.data.DataLoader(dataset=train_dataset, batch_size=1024, shuffle=True)"
      ]
    },
    {
      "cell_type": "markdown",
      "id": "b66ffab3",
      "metadata": {
        "id": "b66ffab3"
      },
      "source": [
        "- 위에서 준비한 dataloader, 모델, loss를 이용하여 학습을 진행합니다.\n",
        "- Forward/backward pass를 여러번 반복하며 loss가 작아지도록 gradient descent와 back propagation을 수행하는 과정은 torch를 이용하여 간단하게 수행 가능합니다.\n",
        "- Optimizer는 [Adam](https://gaussian37.github.io/dl-dlai-Adam/)을 사용했습니다."
      ]
    },
    {
      "cell_type": "code",
      "execution_count": null,
      "id": "39774407",
      "metadata": {
        "id": "39774407"
      },
      "outputs": [],
      "source": [
        "def train(model, dataloader):\n",
        "  num_epochs = 10\n",
        "  loss_per_step = []\n",
        "\n",
        "  model.to('cuda')\n",
        "\n",
        "  optimizer = torch.optim.Adam(model.parameters(), lr=1e-4)\n",
        "\n",
        "  for epoch in range(num_epochs):\n",
        "    for i, (images, labels) in enumerate(train_loader):\n",
        "        # 100, 1, 28, 28\n",
        "        # 100, 724\n",
        "        images = images.reshape(-1,28*28).to('cuda')\n",
        "        \n",
        "        # Forward pass\n",
        "        outputs = model(images)\n",
        "\n",
        "        # Loss 계산 및 저장\n",
        "        labels.to('cuda')\n",
        "        loss = loss_function(outputs, labels)\n",
        "        loss_per_step.append(loss.item())\n",
        "        \n",
        "        # Backward pass    \n",
        "        # 계산된 gradient를 활용하여 파라미터 업데이트\n",
        "        loss.backward()\n",
        "        optimizer.step()\n",
        "        optimizer.zero_grad()\n",
        "        \n",
        "    print(f\"epoch {epoch+1}/{num_epochs}, loss = {loss.item():.4f}\")\n",
        "      \n",
        "  return loss_per_step"
      ]
    },
    {
      "cell_type": "markdown",
      "id": "6e6d698e",
      "metadata": {
        "id": "6e6d698e"
      },
      "source": [
        "- 모델이 input data x, y를 학습하며 100step 마다 loss와 accuracy값을 저장한 뒤 시각화해서 살펴보겠습니다.\n",
        "- 1개의 layer를 사용한 네트워크의 경우 학습 과정에서 loss와 accuracy가 일정 수준 이상으로 개선되지 않는 것을 볼 수 있습니다. 왜 학습이 잘 되지 않을까요?"
      ]
    },
    {
      "cell_type": "code",
      "execution_count": null,
      "id": "bfe076b6",
      "metadata": {
        "id": "bfe076b6",
        "outputId": "fa6a5206-8c9d-4340-a859-4f50cc6b4984",
        "colab": {
          "base_uri": "https://localhost:8080/",
          "height": 525
        }
      },
      "outputs": [
        {
          "output_type": "stream",
          "name": "stderr",
          "text": [
            "<ipython-input-5-96b66f6aa206>:19: UserWarning: To copy construct from a tensor, it is recommended to use sourceTensor.clone().detach() or sourceTensor.clone().detach().requires_grad_(True), rather than torch.tensor(sourceTensor).\n",
            "  labels = torch.tensor(labels).to('cuda')\n"
          ]
        },
        {
          "output_type": "stream",
          "name": "stdout",
          "text": [
            "epoch 1/10, loss = 1.9016\n",
            "epoch 2/10, loss = 1.4320\n",
            "epoch 3/10, loss = 1.0384\n",
            "epoch 4/10, loss = 0.8047\n",
            "epoch 5/10, loss = 0.6884\n",
            "epoch 6/10, loss = 0.5686\n",
            "epoch 7/10, loss = 0.5152\n",
            "epoch 8/10, loss = 0.4408\n",
            "epoch 9/10, loss = 0.4222\n",
            "epoch 10/10, loss = 0.3882\n"
          ]
        },
        {
          "output_type": "display_data",
          "data": {
            "text/plain": [
              "<Figure size 432x288 with 1 Axes>"
            ],
            "image/png": "[encoded data removed]"
          },
          "metadata": {
            "needs_background": "light"
          }
        }
      ],
      "source": [
        "from matplotlib import pyplot as plt\n",
        "\n",
        "loss_per_step = train(model, train_loader)\n",
        "\n",
        "plt.plot(loss_per_step)\n",
        "plt.title(\"Loss per step\")\n",
        "plt.show()"
      ]
    }
  ],
  "metadata": {
    "kernelspec": {
      "display_name": "Python 3 (ipykernel)",
      "language": "python",
      "name": "python3"
    },
    "language_info": {
      "codemirror_mode": {
        "name": "ipython",
        "version": 3
      },
      "file_extension": ".py",
      "mimetype": "text/x-python",
      "name": "python",
      "nbconvert_exporter": "python",
      "pygments_lexer": "ipython3",
      "version": "3.9.12"
    },
    "colab": {
      "provenance": []
    },
    "accelerator": "GPU",
    "gpuClass": "standard"
  },
  "nbformat": 4,
  "nbformat_minor": 5
}
