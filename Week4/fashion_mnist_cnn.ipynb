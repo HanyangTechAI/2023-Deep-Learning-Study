{
  "cells": [
    {
      "cell_type": "markdown",
      "id": "6be683ff",
      "metadata": {
        "id": "6be683ff"
      },
      "source": [
        "## Deep Learning Study\n",
        "#### Week 4: CNN & Transfer Learning\n",
        "![image](https://user-images.githubusercontent.com/44901828/228611874-e925c922-5ac3-4b30-a1cc-960adc09a166.png)\n",
        "- Pytorch에서 제공하는 nn.Module 클래스를 활용하여 간단한 딥 러닝 모델을 설계하고, [Fashion MNIST data](https://github.com/zalandoresearch/fashion-mnist)를 분류할 수 있도록 학습시켜 봅시다.\n",
        "- Fashion MNIST 데이터셋은 기존 MNIST 데이터셋의 단점(분류 난이도가 너무 쉽고, 너무 많이 사용되어 식상하다는 등...)을 개선하기 위해 제안된 데이터셋으로, 다양한 카테고리의 패션 아이템 이미지로 구성되어 있습니다.\n",
        "- Fashion MNIST 분류 문제를 잘 푸는 모델은 input으로 다양한 종류의 패션 아이템의 이미지 데이터를 받아 output으로 해당 아이템이 속한 카테고리를 정확하게 예측하는 모델이라고 할 수 있습니다."
      ]
    },
    {
      "cell_type": "code",
      "execution_count": 1,
      "id": "f68e9a77",
      "metadata": {
        "id": "f68e9a77"
      },
      "outputs": [],
      "source": [
        "import random\n",
        "import numpy as np\n",
        "import torchvision\n",
        "import torch\n",
        "\n",
        "# 재현을 위해 seed 고정\n",
        "random.seed(42)\n",
        "np.random.seed(42)\n",
        "\n",
        "# GPU 사용 여부\n",
        "device = 'cuda' if torch.cuda.is_available() else 'cpu'\n",
        "\n",
        "# MNIST\n",
        "train_dataset = torchvision.datasets.FashionMNIST(root=\"./data\", transform=torchvision.transforms.ToTensor(), train=True, download=True)\n",
        "test_dataset = torchvision.datasets.FashionMNIST(root=\"./data\", transform=torchvision.transforms.ToTensor(), train=False, download=True)"
      ]
    },
    {
      "cell_type": "markdown",
      "source": [
        "- 불러온 Fashion MNIST 데이터셋이 어떤 형태로 구성되어 있는지 확인해 보겠습니다.\n",
        "- 각각의 데이터는 MNIST와 마찬가지로 28x28 크기의 이미지와 숫자 라벨로 구성되어 있네요.\n",
        "- 참고로 이 데이터셋을 사람이 직접 설문조사 형태로 참여해서 분류했을 때 정확도는 약 83.5% 였습니다.\n",
        "- 각 라벨의 값과 실제 카테고리 설명은 아래와 같습니다.\n",
        "\n",
        "|Label|Description|\n",
        "|:--|:--|\n",
        "|0|T-shirt/top|\n",
        "|1|Trouser|\n",
        "|2|Pullover|\n",
        "|3|Dress|\n",
        "|4|Coat|\n",
        "|5|Sandal|\n",
        "|6|Shirt|\n",
        "|7|Sneaker|\n",
        "|8|Bag|\n",
        "|9|Ankle boot|"
      ],
      "metadata": {
        "id": "FuDlZ1OI3kDU"
      },
      "id": "FuDlZ1OI3kDU"
    },
    {
      "cell_type": "code",
      "source": [
        "from torchvision.transforms.functional import to_pil_image\n",
        "\n",
        "ids_to_labels = {0:\"T-shirt/top\", 1:\"Trouser\", 2:\"Pullover\", 3:\"Dress\", 4:\"Coat\", 5:\"Sandal\", 6:\"Shirt\", 7:\"Sneaker\", 8:\"Bag\", 9:\"Ankle boot\"}\n",
        "\n",
        "print(\"Total data:\", len(train_dataset))\n",
        "for i in range(5):\n",
        "    image = train_dataset[i][0]\n",
        "    label = train_dataset[i][1]\n",
        "    print(f\"\\n[Image] {image.shape}\")\n",
        "    to_pil_image(image).show()\n",
        "    print(f\"[Label] {label} {ids_to_labels[label]}\")"
      ],
      "metadata": {
        "id": "xswtqgkT3DGt",
        "outputId": "c58857fb-afad-480b-a3fc-87559206fe51",
        "colab": {
          "base_uri": "https://localhost:8080/",
          "height": 456
        }
      },
      "id": "xswtqgkT3DGt",
      "execution_count": 2,
      "outputs": [
        {
          "output_type": "stream",
          "name": "stdout",
          "text": [
            "Total data: 60000\n",
            "\n",
            "[Image] torch.Size([1, 28, 28])\n"
          ]
        },
        {
          "output_type": "display_data",
          "data": {
            "text/plain": [
              "<PIL.Image.Image image mode=L size=28x28 at 0x7FE2D43DEF10>"
            ],
            "image/png": "[encoded data removed]"
          },
          "metadata": {}
        },
        {
          "output_type": "stream",
          "name": "stdout",
          "text": [
            "[Label] 9 Ankle boot\n",
            "\n",
            "[Image] torch.Size([1, 28, 28])\n"
          ]
        },
        {
          "output_type": "display_data",
          "data": {
            "text/plain": [
              "<PIL.Image.Image image mode=L size=28x28 at 0x7FE2129F1550>"
            ],
            "image/png": "[encoded data removed]"
          },
          "metadata": {}
        },
        {
          "output_type": "stream",
          "name": "stdout",
          "text": [
            "[Label] 0 T-shirt/top\n",
            "\n",
            "[Image] torch.Size([1, 28, 28])\n"
          ]
        },
        {
          "output_type": "display_data",
          "data": {
            "text/plain": [
              "<PIL.Image.Image image mode=L size=28x28 at 0x7FE2129B5850>"
            ],
            "image/png": "[encoded data removed]"
          },
          "metadata": {}
        },
        {
          "output_type": "stream",
          "name": "stdout",
          "text": [
            "[Label] 0 T-shirt/top\n",
            "\n",
            "[Image] torch.Size([1, 28, 28])\n"
          ]
        },
        {
          "output_type": "display_data",
          "data": {
            "text/plain": [
              "<PIL.Image.Image image mode=L size=28x28 at 0x7FE20C7273D0>"
            ],
            "image/png": "[encoded data removed]"
          },
          "metadata": {}
        },
        {
          "output_type": "stream",
          "name": "stdout",
          "text": [
            "[Label] 3 Dress\n",
            "\n",
            "[Image] torch.Size([1, 28, 28])\n"
          ]
        },
        {
          "output_type": "display_data",
          "data": {
            "text/plain": [
              "<PIL.Image.Image image mode=L size=28x28 at 0x7FE20C727580>"
            ],
            "image/png": "[encoded data removed]"
          },
          "metadata": {}
        },
        {
          "output_type": "stream",
          "name": "stdout",
          "text": [
            "[Label] 0 T-shirt/top\n"
          ]
        }
      ]
    },
    {
      "cell_type": "markdown",
      "source": [
        "![image](https://user-images.githubusercontent.com/44901828/229989911-d544fedb-9512-4411-91ee-1a8f94daf029.png)\n",
        "- 이번에는 Fashion MNIST 분류를 학습할 모델로 CNN을 사용해 보겠습니다.\n",
        "- 입력되는 이미지에 대해 convolution과 pooling 연산을 수행하는 간단한 네트워크를 nn.Module 클래스를 사용하여 구성합니다."
      ],
      "metadata": {
        "id": "WuykTl_ryj7W"
      },
      "id": "WuykTl_ryj7W"
    },
    {
      "cell_type": "code",
      "source": [
        "from torch import nn\n",
        "\n",
        "model = nn.Sequential(\n",
        "    nn.Conv2d(in_channels=1, out_channels=32, kernel_size=5, stride=1, padding=\"valid\"),\n",
        "    nn.ReLU(),\n",
        "    nn.MaxPool2d(kernel_size=2),\n",
        "    nn.Conv2d(in_channels=32, out_channels=64, kernel_size=5, stride=1, padding=\"valid\"),\n",
        "    nn.ReLU(),\n",
        "    nn.MaxPool2d(kernel_size=2),\n",
        "    nn.Flatten(),\n",
        "    nn.Linear(in_features=4*4*64, out_features=128),\n",
        "    nn.ReLU(),\n",
        "    nn.Linear(in_features=128, out_features=10)\n",
        ")\n",
        "\n",
        "model.to('cuda')"
      ],
      "metadata": {
        "id": "_EGWKS3WykOa",
        "colab": {
          "base_uri": "https://localhost:8080/"
        },
        "outputId": "daa3c280-0e23-47fc-b816-242fd0b25d74"
      },
      "id": "_EGWKS3WykOa",
      "execution_count": 3,
      "outputs": [
        {
          "output_type": "execute_result",
          "data": {
            "text/plain": [
              "Sequential(\n",
              "  (0): Conv2d(1, 32, kernel_size=(5, 5), stride=(1, 1), padding=valid)\n",
              "  (1): ReLU()\n",
              "  (2): MaxPool2d(kernel_size=2, stride=2, padding=0, dilation=1, ceil_mode=False)\n",
              "  (3): Conv2d(32, 64, kernel_size=(5, 5), stride=(1, 1), padding=valid)\n",
              "  (4): ReLU()\n",
              "  (5): MaxPool2d(kernel_size=2, stride=2, padding=0, dilation=1, ceil_mode=False)\n",
              "  (6): Flatten(start_dim=1, end_dim=-1)\n",
              "  (7): Linear(in_features=1024, out_features=128, bias=True)\n",
              "  (8): ReLU()\n",
              "  (9): Linear(in_features=128, out_features=10, bias=True)\n",
              ")"
            ]
          },
          "metadata": {},
          "execution_count": 3
        }
      ]
    },
    {
      "cell_type": "markdown",
      "source": [
        "![image](https://user-images.githubusercontent.com/44901828/228437940-59595fa6-8046-45f0-9b2f-7b35df470702.png)\n",
        "- 분류 문제에 일반적으로 사용되는 Cross Entropy Loss를 불러와 사용하겠습니다.\n",
        "- 학습 과정에서 일정 단위의 데이터를 쉽게 불러와 사용할 수 있게 해주는 DataLoader를 사용하도록 하겠습니다."
      ],
      "metadata": {
        "id": "WjZH4Qg2ymLP"
      },
      "id": "WjZH4Qg2ymLP"
    },
    {
      "cell_type": "code",
      "source": [
        "loss_function = nn.CrossEntropyLoss()\n",
        "train_loader = torch.utils.data.DataLoader(dataset=train_dataset, batch_size=1024, shuffle=True)\n",
        "test_loader = torch.utils.data.DataLoader(dataset=test_dataset, batch_size=1024, shuffle=False)"
      ],
      "metadata": {
        "id": "B_ymtXrgynsV"
      },
      "id": "B_ymtXrgynsV",
      "execution_count": 4,
      "outputs": []
    },
    {
      "cell_type": "markdown",
      "source": [
        "- 위에서 준비한 dataloader, 모델, loss를 이용하여 학습을 진행합니다.\n",
        "- Forward/backward pass를 여러번 반복하며 loss가 작아지도록 gradient descent와 back propagation을 수행하는 과정은 torch를 이용하여 간단하게 수행 가능합니다.\n",
        "- Optimizer는 [Adam](https://gaussian37.github.io/dl-dlai-Adam/)을 사용했습니다.\n",
        "- 전체 데이터에 대해 학습이 진행된 횟수를 epoch라고 합니다. 1 epoch가 지날 때 마다 train data를 잘 분류하는지 확인하기 위해 test 함수를 호출해 줍니다."
      ],
      "metadata": {
        "id": "5p9bNa7Ryps2"
      },
      "id": "5p9bNa7Ryps2"
    },
    {
      "cell_type": "code",
      "source": [
        "from tqdm import tqdm\n",
        "\n",
        "def train(dataloader):\n",
        "  num_epochs = 10\n",
        "  loss_per_step = []\n",
        "\n",
        "  optimizer = torch.optim.AdamW(model.parameters(), lr=1e-3)\n",
        "\n",
        "  for epoch in range(num_epochs):\n",
        "    for i, (images, labels) in tqdm(enumerate(dataloader), desc=f\"Training epoch {epoch}\", total=len(dataloader)):\n",
        "        # Forward pass\n",
        "        outputs = model(images.to(device))\n",
        "\n",
        "        # Loss 계산 및 저장\n",
        "        loss = loss_function(outputs, labels.to('cuda'))\n",
        "        loss_per_step.append(loss.detach().cpu().item())\n",
        "        \n",
        "        # Backward pass    \n",
        "        # 계산된 gradient를 활용하여 파라미터 업데이트\n",
        "        loss.backward()\n",
        "        optimizer.step()\n",
        "        optimizer.zero_grad()\n",
        "    \n",
        "    acc = test(dataloader)    \n",
        "    print(f\"epoch {epoch+1}/{num_epochs}, train loss = {loss.item():.4f}, train accuracy: {acc:.2f}%\")\n",
        "      \n",
        "  return loss_per_step\n",
        "\n",
        "def test(dataloader):\n",
        "  with torch.no_grad():\n",
        "    n_correct = 0\n",
        "    n_samples =0\n",
        "    for images, labels in tqdm(dataloader, desc=\"Evaluation in progress\"):\n",
        "        outputs = model(images.to(device)).detach().cpu()\n",
        "        # value, index\n",
        "        predictions = torch.argmax(outputs,dim=1)\n",
        "        n_samples += labels.shape[0]\n",
        "        n_correct += (predictions == labels).sum().item()\n",
        "        \n",
        "    acc = 100 * n_correct / n_samples\n",
        "    return acc"
      ],
      "metadata": {
        "id": "YVUxwECOyrCj"
      },
      "id": "YVUxwECOyrCj",
      "execution_count": 5,
      "outputs": []
    },
    {
      "cell_type": "markdown",
      "source": [
        "- 학습이 진행되며 train loss는 감소하고, train accuracy는 증가하는 것을 볼 수 있습니다.\n",
        "- 하지만 train data에 대해서 평가한 것만으로는 모델의 성능을 객관적으로 평가할 수 없습니다. 학습에 사용되지 않은 test 데이터를 사용해서 모델의 분류 성능을 평가해보도록 하겠습니다."
      ],
      "metadata": {
        "id": "snT-cBMyys77"
      },
      "id": "snT-cBMyys77"
    },
    {
      "cell_type": "code",
      "source": [
        "from matplotlib import pyplot as plt\n",
        "\n",
        "loss_per_step = train(train_loader)\n",
        "\n",
        "plt.plot(loss_per_step)\n",
        "plt.title(\"Loss per step\")\n",
        "plt.show()"
      ],
      "metadata": {
        "id": "nIyCBeWwyvPH",
        "outputId": "b5b7f19b-cac2-4497-9830-4fa70f7c356a",
        "colab": {
          "base_uri": "https://localhost:8080/",
          "height": 1000
        }
      },
      "id": "nIyCBeWwyvPH",
      "execution_count": 6,
      "outputs": [
        {
          "output_type": "stream",
          "name": "stderr",
          "text": [
            "Training epoch 0: 100%|██████████| 59/59 [00:15<00:00,  3.75it/s]\n",
            "Evaluation in progress: 100%|██████████| 59/59 [00:09<00:00,  6.21it/s]\n"
          ]
        },
        {
          "output_type": "stream",
          "name": "stdout",
          "text": [
            "epoch 1/10, train loss = 0.6630, train accuracy: 76.61%\n"
          ]
        },
        {
          "output_type": "stream",
          "name": "stderr",
          "text": [
            "Training epoch 1: 100%|██████████| 59/59 [00:07<00:00,  7.64it/s]\n",
            "Evaluation in progress: 100%|██████████| 59/59 [00:08<00:00,  7.13it/s]\n"
          ]
        },
        {
          "output_type": "stream",
          "name": "stdout",
          "text": [
            "epoch 2/10, train loss = 0.4930, train accuracy: 80.88%\n"
          ]
        },
        {
          "output_type": "stream",
          "name": "stderr",
          "text": [
            "Training epoch 2: 100%|██████████| 59/59 [00:08<00:00,  7.05it/s]\n",
            "Evaluation in progress: 100%|██████████| 59/59 [00:07<00:00,  7.88it/s]\n"
          ]
        },
        {
          "output_type": "stream",
          "name": "stdout",
          "text": [
            "epoch 3/10, train loss = 0.4087, train accuracy: 83.17%\n"
          ]
        },
        {
          "output_type": "stream",
          "name": "stderr",
          "text": [
            "Training epoch 3: 100%|██████████| 59/59 [00:08<00:00,  7.16it/s]\n",
            "Evaluation in progress: 100%|██████████| 59/59 [00:08<00:00,  7.17it/s]\n"
          ]
        },
        {
          "output_type": "stream",
          "name": "stdout",
          "text": [
            "epoch 4/10, train loss = 0.4223, train accuracy: 84.07%\n"
          ]
        },
        {
          "output_type": "stream",
          "name": "stderr",
          "text": [
            "Training epoch 4: 100%|██████████| 59/59 [00:07<00:00,  7.71it/s]\n",
            "Evaluation in progress: 100%|██████████| 59/59 [00:09<00:00,  6.28it/s]\n"
          ]
        },
        {
          "output_type": "stream",
          "name": "stdout",
          "text": [
            "epoch 5/10, train loss = 0.3888, train accuracy: 86.71%\n"
          ]
        },
        {
          "output_type": "stream",
          "name": "stderr",
          "text": [
            "Training epoch 5: 100%|██████████| 59/59 [00:08<00:00,  7.08it/s]\n",
            "Evaluation in progress: 100%|██████████| 59/59 [00:07<00:00,  7.46it/s]\n"
          ]
        },
        {
          "output_type": "stream",
          "name": "stdout",
          "text": [
            "epoch 6/10, train loss = 0.3321, train accuracy: 87.02%\n"
          ]
        },
        {
          "output_type": "stream",
          "name": "stderr",
          "text": [
            "Training epoch 6: 100%|██████████| 59/59 [00:08<00:00,  7.22it/s]\n",
            "Evaluation in progress: 100%|██████████| 59/59 [00:08<00:00,  7.22it/s]\n"
          ]
        },
        {
          "output_type": "stream",
          "name": "stdout",
          "text": [
            "epoch 7/10, train loss = 0.3854, train accuracy: 87.68%\n"
          ]
        },
        {
          "output_type": "stream",
          "name": "stderr",
          "text": [
            "Training epoch 7: 100%|██████████| 59/59 [00:07<00:00,  7.54it/s]\n",
            "Evaluation in progress: 100%|██████████| 59/59 [00:08<00:00,  7.30it/s]\n"
          ]
        },
        {
          "output_type": "stream",
          "name": "stdout",
          "text": [
            "epoch 8/10, train loss = 0.3552, train accuracy: 88.15%\n"
          ]
        },
        {
          "output_type": "stream",
          "name": "stderr",
          "text": [
            "Training epoch 8: 100%|██████████| 59/59 [00:08<00:00,  7.07it/s]\n",
            "Evaluation in progress: 100%|██████████| 59/59 [00:07<00:00,  7.62it/s]\n"
          ]
        },
        {
          "output_type": "stream",
          "name": "stdout",
          "text": [
            "epoch 9/10, train loss = 0.2705, train accuracy: 88.69%\n"
          ]
        },
        {
          "output_type": "stream",
          "name": "stderr",
          "text": [
            "Training epoch 9: 100%|██████████| 59/59 [00:08<00:00,  7.09it/s]\n",
            "Evaluation in progress: 100%|██████████| 59/59 [00:08<00:00,  7.14it/s]\n"
          ]
        },
        {
          "output_type": "stream",
          "name": "stdout",
          "text": [
            "epoch 10/10, train loss = 0.3353, train accuracy: 89.11%\n"
          ]
        },
        {
          "output_type": "display_data",
          "data": {
            "text/plain": [
              "<Figure size 640x480 with 1 Axes>"
            ],
            "image/png": "[encoded data removed]"
          },
          "metadata": {}
        }
      ]
    },
    {
      "cell_type": "markdown",
      "source": [
        "- 지난 과제에서 사용했던 fully connected layer보다 조금 더 나은 분류 성능을 보여주네요!\n",
        "- 하이퍼파라미터를 잘 변경하면 더 나은 성능을 보여줄 수도 있지만 이 네트워크에도 한계가 존재하는것 같네요."
      ],
      "metadata": {
        "id": "ayrKaFz1ywSJ"
      },
      "id": "ayrKaFz1ywSJ"
    },
    {
      "cell_type": "code",
      "source": [
        "train_acc = test(train_loader)\n",
        "test_acc = test(test_loader)\n",
        "\n",
        "print(f\"\\nTrain accuracy: {train_acc:.2f}%\")\n",
        "print(f\"Test accuracy: {test_acc:.2f}%\")"
      ],
      "metadata": {
        "id": "DkAAUwuWyxmy",
        "outputId": "264f01b5-2043-404e-e5bb-759a638cb78c",
        "colab": {
          "base_uri": "https://localhost:8080/"
        }
      },
      "id": "DkAAUwuWyxmy",
      "execution_count": 7,
      "outputs": [
        {
          "output_type": "stream",
          "name": "stderr",
          "text": [
            "Evaluation in progress: 100%|██████████| 59/59 [00:07<00:00,  7.60it/s]\n",
            "Evaluation in progress: 100%|██████████| 10/10 [00:01<00:00,  5.61it/s]"
          ]
        },
        {
          "output_type": "stream",
          "name": "stdout",
          "text": [
            "\n",
            "Train accuracy: 89.11%\n",
            "Test accuracy: 87.90%\n"
          ]
        },
        {
          "output_type": "stream",
          "name": "stderr",
          "text": [
            "\n"
          ]
        }
      ]
    },
    {
      "cell_type": "markdown",
      "source": [
        "![image](https://user-images.githubusercontent.com/44901828/230053923-b1f0b892-9f2a-45f2-9ee1-44fa7a2fb9f1.png)\n",
        "- 이번에는 이미 수많은 이미지에 대해 학습된 MobileNet의 파라미터를 불러와 Fashion MNIST를 분류할 수 있는 모델로 학습시켜 보겠습니다.\n",
        "- PyTorch의 컴퓨터 비전 라이브러리인 torchvision을 사용하면 mobilenet을 비롯한 다양한 사전 학습된 네트워크를 쉽게 불러와 사용할 수 있습니다."
      ],
      "metadata": {
        "id": "kVmTZNcXHFj_"
      },
      "id": "kVmTZNcXHFj_"
    },
    {
      "cell_type": "code",
      "source": [
        "from torchvision.models.mobilenet import mobilenet_v2\n",
        "\n",
        "# weights 옵션을 통해 빈 모델만 불러오거나\n",
        "# 사전학습된 파라미터를 불러오는 것 중 선택 가능\n",
        "model = mobilenet_v2(weights=False)\n",
        "\n",
        "# Fashion MNIST의 class 개수만큼 출력하도록 output layer 변형\n",
        "model.classifier[1] = torch.nn.Linear(in_features=model.classifier[1].in_features, out_features=10)\n",
        "_ = model.to(device)"
      ],
      "metadata": {
        "id": "uusqS5X3D-MZ",
        "colab": {
          "base_uri": "https://localhost:8080/"
        },
        "outputId": "5f7350ea-0824-4345-dd3e-ef8f62235393"
      },
      "id": "uusqS5X3D-MZ",
      "execution_count": 8,
      "outputs": [
        {
          "output_type": "stream",
          "name": "stderr",
          "text": [
            "/usr/local/lib/python3.9/dist-packages/torchvision/models/_utils.py:223: UserWarning: Arguments other than a weight enum or `None` for 'weights' are deprecated since 0.13 and may be removed in the future. The current behavior is equivalent to passing `weights=None`.\n",
            "  warnings.warn(msg)\n"
          ]
        }
      ]
    },
    {
      "cell_type": "markdown",
      "source": [
        "- MobileNet은 컬러(RGB) 이미지를 학습하도록 한 모델이기 때문에, 흑백 이미지인 MNIST를 바로 사용할 수 없습니다.\n",
        "- MobileNet의 입력 차원과 일치시키기 위한 작업을 수행하는 collate function을 정의하여 Dataloader를 새로 정의합니다.\n",
        "- Collate function은 Dataloader가 모델에 데이터를 전달하기 직전 데이터에 대해 호출되는 함수입니다."
      ],
      "metadata": {
        "id": "pVL4VxA0xtNn"
      },
      "id": "pVL4VxA0xtNn"
    },
    {
      "cell_type": "code",
      "source": [
        "# 1채널(흑백) 데이터를 3채널(RGB) 데이터와 같은\n",
        "# 형태로 복제해주는 collate function\n",
        "def channel_repeater(data):\n",
        "  images = []\n",
        "  labels = []\n",
        "  for i, (image, label) in enumerate(data):\n",
        "    images.append(image.repeat((1, 3, 1, 1)))\n",
        "    labels.append(label)\n",
        "  return (torch.cat(images), torch.tensor(labels))\n",
        "\n",
        "# 새로 정의된 collator를 활용하여 dataloader 재정의\n",
        "train_loader = torch.utils.data.DataLoader(dataset=train_dataset, batch_size=1024, shuffle=True, collate_fn=channel_repeater)\n",
        "test_loader = torch.utils.data.DataLoader(dataset=test_dataset, batch_size=1024, shuffle=False, collate_fn=channel_repeater)"
      ],
      "metadata": {
        "id": "Bfm-fYXgxsJV"
      },
      "id": "Bfm-fYXgxsJV",
      "execution_count": 9,
      "outputs": []
    },
    {
      "cell_type": "markdown",
      "source": [
        "- 이제 MobileNet으로 Fashion MNIST를 분류할 준비가 다 되었습니다!\n",
        "- 모델의 구조는 바뀌었지만, 학습 방식이 달라진 것은 없기 때문에 기존에 사용했던 학습 코드를 그대로 활용할 수 있습니다."
      ],
      "metadata": {
        "id": "ImdKXiOyyoxU"
      },
      "id": "ImdKXiOyyoxU"
    },
    {
      "cell_type": "code",
      "source": [
        "loss_per_step = train(train_loader)\n",
        "\n",
        "plt.plot(loss_per_step)\n",
        "plt.title(\"Loss per step\")\n",
        "plt.show()"
      ],
      "metadata": {
        "colab": {
          "base_uri": "https://localhost:8080/",
          "height": 1000
        },
        "id": "G8uGsnyBo7nv",
        "outputId": "6ce950f5-5c98-48f2-a38f-3ce9d6b1d8b8"
      },
      "id": "G8uGsnyBo7nv",
      "execution_count": 10,
      "outputs": [
        {
          "output_type": "stream",
          "name": "stderr",
          "text": [
            "Training epoch 0: 100%|██████████| 59/59 [00:16<00:00,  3.60it/s]\n",
            "Evaluation in progress: 100%|██████████| 59/59 [00:10<00:00,  5.76it/s]\n"
          ]
        },
        {
          "output_type": "stream",
          "name": "stdout",
          "text": [
            "epoch 1/10, train loss = 0.5857, train accuracy: 79.62%\n"
          ]
        },
        {
          "output_type": "stream",
          "name": "stderr",
          "text": [
            "Training epoch 1: 100%|██████████| 59/59 [00:10<00:00,  5.52it/s]\n",
            "Evaluation in progress: 100%|██████████| 59/59 [00:09<00:00,  5.99it/s]\n"
          ]
        },
        {
          "output_type": "stream",
          "name": "stdout",
          "text": [
            "epoch 2/10, train loss = 0.4500, train accuracy: 85.11%\n"
          ]
        },
        {
          "output_type": "stream",
          "name": "stderr",
          "text": [
            "Training epoch 2: 100%|██████████| 59/59 [00:10<00:00,  5.59it/s]\n",
            "Evaluation in progress: 100%|██████████| 59/59 [00:10<00:00,  5.76it/s]\n"
          ]
        },
        {
          "output_type": "stream",
          "name": "stdout",
          "text": [
            "epoch 3/10, train loss = 0.4269, train accuracy: 88.01%\n"
          ]
        },
        {
          "output_type": "stream",
          "name": "stderr",
          "text": [
            "Training epoch 3: 100%|██████████| 59/59 [00:11<00:00,  5.20it/s]\n",
            "Evaluation in progress: 100%|██████████| 59/59 [00:10<00:00,  5.73it/s]\n"
          ]
        },
        {
          "output_type": "stream",
          "name": "stdout",
          "text": [
            "epoch 4/10, train loss = 0.3410, train accuracy: 89.19%\n"
          ]
        },
        {
          "output_type": "stream",
          "name": "stderr",
          "text": [
            "Training epoch 4: 100%|██████████| 59/59 [00:10<00:00,  5.56it/s]\n",
            "Evaluation in progress: 100%|██████████| 59/59 [00:10<00:00,  5.77it/s]\n"
          ]
        },
        {
          "output_type": "stream",
          "name": "stdout",
          "text": [
            "epoch 5/10, train loss = 0.3260, train accuracy: 90.99%\n"
          ]
        },
        {
          "output_type": "stream",
          "name": "stderr",
          "text": [
            "Training epoch 5: 100%|██████████| 59/59 [00:10<00:00,  5.66it/s]\n",
            "Evaluation in progress: 100%|██████████| 59/59 [00:10<00:00,  5.83it/s]\n"
          ]
        },
        {
          "output_type": "stream",
          "name": "stdout",
          "text": [
            "epoch 6/10, train loss = 0.2790, train accuracy: 91.36%\n"
          ]
        },
        {
          "output_type": "stream",
          "name": "stderr",
          "text": [
            "Training epoch 6: 100%|██████████| 59/59 [00:10<00:00,  5.51it/s]\n",
            "Evaluation in progress: 100%|██████████| 59/59 [00:10<00:00,  5.68it/s]\n"
          ]
        },
        {
          "output_type": "stream",
          "name": "stdout",
          "text": [
            "epoch 7/10, train loss = 0.2782, train accuracy: 92.14%\n"
          ]
        },
        {
          "output_type": "stream",
          "name": "stderr",
          "text": [
            "Training epoch 7: 100%|██████████| 59/59 [00:10<00:00,  5.48it/s]\n",
            "Evaluation in progress: 100%|██████████| 59/59 [00:10<00:00,  5.70it/s]\n"
          ]
        },
        {
          "output_type": "stream",
          "name": "stdout",
          "text": [
            "epoch 8/10, train loss = 0.2467, train accuracy: 92.38%\n"
          ]
        },
        {
          "output_type": "stream",
          "name": "stderr",
          "text": [
            "Training epoch 8: 100%|██████████| 59/59 [00:10<00:00,  5.54it/s]\n",
            "Evaluation in progress: 100%|██████████| 59/59 [00:10<00:00,  5.82it/s]\n"
          ]
        },
        {
          "output_type": "stream",
          "name": "stdout",
          "text": [
            "epoch 9/10, train loss = 0.2414, train accuracy: 93.18%\n"
          ]
        },
        {
          "output_type": "stream",
          "name": "stderr",
          "text": [
            "Training epoch 9: 100%|██████████| 59/59 [00:10<00:00,  5.79it/s]\n",
            "Evaluation in progress: 100%|██████████| 59/59 [00:10<00:00,  5.76it/s]\n"
          ]
        },
        {
          "output_type": "stream",
          "name": "stdout",
          "text": [
            "epoch 10/10, train loss = 0.2434, train accuracy: 92.88%\n"
          ]
        },
        {
          "output_type": "display_data",
          "data": {
            "text/plain": [
              "<Figure size 640x480 with 1 Axes>"
            ],
            "image/png": "[encoded data removed]"
          },
          "metadata": {}
        }
      ]
    },
    {
      "cell_type": "markdown",
      "source": [
        "- 학습 결과 fully connected network나 기본적인 CNN 네트워크에 비해 train data를 더 잘 분류하는 것을 볼 수 있습니다.\n",
        "- 같은 분류 문제를 해결할 때에도, 어떤 모델을 사용하느냐에 따라 성능이 크게 차이나는 것을 알 수 있습니다."
      ],
      "metadata": {
        "id": "nOjHADrv0L6J"
      },
      "id": "nOjHADrv0L6J"
    },
    {
      "cell_type": "code",
      "source": [
        "train_acc = test(train_loader)\n",
        "test_acc = test(test_loader)\n",
        "\n",
        "print(f\"\\nTrain accuracy: {train_acc:.2f}%\")\n",
        "print(f\"Test accuracy: {test_acc:.2f}%\")"
      ],
      "metadata": {
        "colab": {
          "base_uri": "https://localhost:8080/"
        },
        "id": "FrV3gpsAvos9",
        "outputId": "24b8f28c-e58a-46cb-eac7-512fee893f85"
      },
      "id": "FrV3gpsAvos9",
      "execution_count": 12,
      "outputs": [
        {
          "output_type": "stream",
          "name": "stderr",
          "text": [
            "Evaluation in progress: 100%|██████████| 59/59 [00:09<00:00,  5.94it/s]\n",
            "Evaluation in progress: 100%|██████████| 10/10 [00:02<00:00,  4.39it/s]"
          ]
        },
        {
          "output_type": "stream",
          "name": "stdout",
          "text": [
            "\n",
            "Train accuracy: 92.79%\n",
            "Test accuracy: 85.56%\n"
          ]
        },
        {
          "output_type": "stream",
          "name": "stderr",
          "text": [
            "\n"
          ]
        }
      ]
    },
    {
      "cell_type": "code",
      "source": [],
      "metadata": {
        "id": "YYvxs-9I40aT"
      },
      "id": "YYvxs-9I40aT",
      "execution_count": 11,
      "outputs": []
    }
  ],
  "metadata": {
    "kernelspec": {
      "display_name": "Python 3 (ipykernel)",
      "language": "python",
      "name": "python3"
    },
    "language_info": {
      "codemirror_mode": {
        "name": "ipython",
        "version": 3
      },
      "file_extension": ".py",
      "mimetype": "text/x-python",
      "name": "python",
      "nbconvert_exporter": "python",
      "pygments_lexer": "ipython3",
      "version": "3.9.12"
    },
    "colab": {
      "provenance": []
    },
    "accelerator": "GPU",
    "gpuClass": "standard"
  },
  "nbformat": 4,
  "nbformat_minor": 5
}
